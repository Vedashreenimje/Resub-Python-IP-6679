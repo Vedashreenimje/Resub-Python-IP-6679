{
  "nbformat": 4,
  "nbformat_minor": 0,
  "metadata": {
    "colab": {
      "provenance": []
    },
    "kernelspec": {
      "name": "python3",
      "display_name": "Python 3"
    },
    "language_info": {
      "name": "python"
    }
  },
  "cells": [
    {
      "cell_type": "markdown",
      "source": [
        "\n",
        "#**Cloud Counselage Internship (Python)**#\n",
        "\n"
      ],
      "metadata": {
        "id": "BXP5WfkxZ6-C"
      }
    },
    {
      "cell_type": "markdown",
      "source": [
        "# >> Uploading Dataset..."
      ],
      "metadata": {
        "id": "oUp1Y42yeYDc"
      }
    },
    {
      "cell_type": "code",
      "execution_count": null,
      "metadata": {
        "colab": {
          "base_uri": "https://localhost:8080/",
          "height": 696
        },
        "id": "DjI1j2EYZ5vc",
        "outputId": "b07913af-6616-49ac-e6c1-3381f2de68ba"
      },
      "outputs": [
        {
          "output_type": "display_data",
          "data": {
            "text/plain": [
              "<IPython.core.display.HTML object>"
            ],
            "text/html": [
              "\n",
              "     <input type=\"file\" id=\"files-a7ed3de5-f36e-4cfc-851a-298af571ab82\" name=\"files[]\" multiple disabled\n",
              "        style=\"border:none\" />\n",
              "     <output id=\"result-a7ed3de5-f36e-4cfc-851a-298af571ab82\">\n",
              "      Upload widget is only available when the cell has been executed in the\n",
              "      current browser session. Please rerun this cell to enable.\n",
              "      </output>\n",
              "      <script>// Copyright 2017 Google LLC\n",
              "//\n",
              "// Licensed under the Apache License, Version 2.0 (the \"License\");\n",
              "// you may not use this file except in compliance with the License.\n",
              "// You may obtain a copy of the License at\n",
              "//\n",
              "//      http://www.apache.org/licenses/LICENSE-2.0\n",
              "//\n",
              "// Unless required by applicable law or agreed to in writing, software\n",
              "// distributed under the License is distributed on an \"AS IS\" BASIS,\n",
              "// WITHOUT WARRANTIES OR CONDITIONS OF ANY KIND, either express or implied.\n",
              "// See the License for the specific language governing permissions and\n",
              "// limitations under the License.\n",
              "\n",
              "/**\n",
              " * @fileoverview Helpers for google.colab Python module.\n",
              " */\n",
              "(function(scope) {\n",
              "function span(text, styleAttributes = {}) {\n",
              "  const element = document.createElement('span');\n",
              "  element.textContent = text;\n",
              "  for (const key of Object.keys(styleAttributes)) {\n",
              "    element.style[key] = styleAttributes[key];\n",
              "  }\n",
              "  return element;\n",
              "}\n",
              "\n",
              "// Max number of bytes which will be uploaded at a time.\n",
              "const MAX_PAYLOAD_SIZE = 100 * 1024;\n",
              "\n",
              "function _uploadFiles(inputId, outputId) {\n",
              "  const steps = uploadFilesStep(inputId, outputId);\n",
              "  const outputElement = document.getElementById(outputId);\n",
              "  // Cache steps on the outputElement to make it available for the next call\n",
              "  // to uploadFilesContinue from Python.\n",
              "  outputElement.steps = steps;\n",
              "\n",
              "  return _uploadFilesContinue(outputId);\n",
              "}\n",
              "\n",
              "// This is roughly an async generator (not supported in the browser yet),\n",
              "// where there are multiple asynchronous steps and the Python side is going\n",
              "// to poll for completion of each step.\n",
              "// This uses a Promise to block the python side on completion of each step,\n",
              "// then passes the result of the previous step as the input to the next step.\n",
              "function _uploadFilesContinue(outputId) {\n",
              "  const outputElement = document.getElementById(outputId);\n",
              "  const steps = outputElement.steps;\n",
              "\n",
              "  const next = steps.next(outputElement.lastPromiseValue);\n",
              "  return Promise.resolve(next.value.promise).then((value) => {\n",
              "    // Cache the last promise value to make it available to the next\n",
              "    // step of the generator.\n",
              "    outputElement.lastPromiseValue = value;\n",
              "    return next.value.response;\n",
              "  });\n",
              "}\n",
              "\n",
              "/**\n",
              " * Generator function which is called between each async step of the upload\n",
              " * process.\n",
              " * @param {string} inputId Element ID of the input file picker element.\n",
              " * @param {string} outputId Element ID of the output display.\n",
              " * @return {!Iterable<!Object>} Iterable of next steps.\n",
              " */\n",
              "function* uploadFilesStep(inputId, outputId) {\n",
              "  const inputElement = document.getElementById(inputId);\n",
              "  inputElement.disabled = false;\n",
              "\n",
              "  const outputElement = document.getElementById(outputId);\n",
              "  outputElement.innerHTML = '';\n",
              "\n",
              "  const pickedPromise = new Promise((resolve) => {\n",
              "    inputElement.addEventListener('change', (e) => {\n",
              "      resolve(e.target.files);\n",
              "    });\n",
              "  });\n",
              "\n",
              "  const cancel = document.createElement('button');\n",
              "  inputElement.parentElement.appendChild(cancel);\n",
              "  cancel.textContent = 'Cancel upload';\n",
              "  const cancelPromise = new Promise((resolve) => {\n",
              "    cancel.onclick = () => {\n",
              "      resolve(null);\n",
              "    };\n",
              "  });\n",
              "\n",
              "  // Wait for the user to pick the files.\n",
              "  const files = yield {\n",
              "    promise: Promise.race([pickedPromise, cancelPromise]),\n",
              "    response: {\n",
              "      action: 'starting',\n",
              "    }\n",
              "  };\n",
              "\n",
              "  cancel.remove();\n",
              "\n",
              "  // Disable the input element since further picks are not allowed.\n",
              "  inputElement.disabled = true;\n",
              "\n",
              "  if (!files) {\n",
              "    return {\n",
              "      response: {\n",
              "        action: 'complete',\n",
              "      }\n",
              "    };\n",
              "  }\n",
              "\n",
              "  for (const file of files) {\n",
              "    const li = document.createElement('li');\n",
              "    li.append(span(file.name, {fontWeight: 'bold'}));\n",
              "    li.append(span(\n",
              "        `(${file.type || 'n/a'}) - ${file.size} bytes, ` +\n",
              "        `last modified: ${\n",
              "            file.lastModifiedDate ? file.lastModifiedDate.toLocaleDateString() :\n",
              "                                    'n/a'} - `));\n",
              "    const percent = span('0% done');\n",
              "    li.appendChild(percent);\n",
              "\n",
              "    outputElement.appendChild(li);\n",
              "\n",
              "    const fileDataPromise = new Promise((resolve) => {\n",
              "      const reader = new FileReader();\n",
              "      reader.onload = (e) => {\n",
              "        resolve(e.target.result);\n",
              "      };\n",
              "      reader.readAsArrayBuffer(file);\n",
              "    });\n",
              "    // Wait for the data to be ready.\n",
              "    let fileData = yield {\n",
              "      promise: fileDataPromise,\n",
              "      response: {\n",
              "        action: 'continue',\n",
              "      }\n",
              "    };\n",
              "\n",
              "    // Use a chunked sending to avoid message size limits. See b/62115660.\n",
              "    let position = 0;\n",
              "    do {\n",
              "      const length = Math.min(fileData.byteLength - position, MAX_PAYLOAD_SIZE);\n",
              "      const chunk = new Uint8Array(fileData, position, length);\n",
              "      position += length;\n",
              "\n",
              "      const base64 = btoa(String.fromCharCode.apply(null, chunk));\n",
              "      yield {\n",
              "        response: {\n",
              "          action: 'append',\n",
              "          file: file.name,\n",
              "          data: base64,\n",
              "        },\n",
              "      };\n",
              "\n",
              "      let percentDone = fileData.byteLength === 0 ?\n",
              "          100 :\n",
              "          Math.round((position / fileData.byteLength) * 100);\n",
              "      percent.textContent = `${percentDone}% done`;\n",
              "\n",
              "    } while (position < fileData.byteLength);\n",
              "  }\n",
              "\n",
              "  // All done.\n",
              "  yield {\n",
              "    response: {\n",
              "      action: 'complete',\n",
              "    }\n",
              "  };\n",
              "}\n",
              "\n",
              "scope.google = scope.google || {};\n",
              "scope.google.colab = scope.google.colab || {};\n",
              "scope.google.colab._files = {\n",
              "  _uploadFiles,\n",
              "  _uploadFilesContinue,\n",
              "};\n",
              "})(self);\n",
              "</script> "
            ]
          },
          "metadata": {}
        },
        {
          "output_type": "stream",
          "name": "stdout",
          "text": [
            "Saving Python Data (1).xlsx to Python Data (1).xlsx\n"
          ]
        },
        {
          "output_type": "execute_result",
          "data": {
            "text/plain": [
              "  First Name           Email ID  Quantity                  Events  \\\n",
              "0     ANIKET     aniket@xyz.com         1  Art of Resume Building   \n",
              "1  Dhanshree  dhanshree@xyz.com         1  Art of Resume Building   \n",
              "2     Dhiraj     dhiraj@xyz.com         1  Art of Resume Building   \n",
              "3      Pooja      pooja@xyz.com         1  Art of Resume Building   \n",
              "4     Aayush     aayush@xyz.com         1  Art of Resume Building   \n",
              "\n",
              "  Attendee Status                                       College Name  \\\n",
              "0       Attending  D Y PATIL INSTITUTE OF MCA AND MANAGEMENT AKUR...   \n",
              "1       Attending                   AP SHAH INSTITUTE OF TECHNOLOGY    \n",
              "2       Attending       Don Bosco College of Engineering Fatorda Goa   \n",
              "3       Attending           Pillai College of Engineering New Panvel   \n",
              "4       Attending                               St Xavier's College    \n",
              "\n",
              "        How did you come to know about this event?  \\\n",
              "0                                            Email   \n",
              "1                                           Others   \n",
              "2                                            Email   \n",
              "3                                            Email   \n",
              "4  Instagram | LinkedIn | Cloud Counselage Website   \n",
              "\n",
              "  Specify in \"Others\" (how did you come to know about this event) Designation  \\\n",
              "0                                                NaN                 Students   \n",
              "1                                            College                 Students   \n",
              "2                                                NaN                 Students   \n",
              "3                                                NaN                 Students   \n",
              "4                                                NaN                 Students   \n",
              "\n",
              "   Year of Graduation       City  CGPA  Experience with python (Months)  \\\n",
              "0                2024      Patna   6.7                                7   \n",
              "1                2024   Amravati   8.2                                3   \n",
              "2                2023    Kunrool   6.5                                4   \n",
              "3                2025   Tirupati   8.7                                7   \n",
              "4                2024  Vijaywada   9.1                                3   \n",
              "\n",
              "  Family Income  Expected salary (Lac) Leadership- skills  \n",
              "0       7 Lakh+                      6                yes  \n",
              "1      0-2 Lakh                      7                 no  \n",
              "2      5-7 Lakh                      7                 no  \n",
              "3      2-5 Lakh                      8                 no  \n",
              "4      0-2 Lakh                     10                yes  "
            ],
            "text/html": [
              "\n",
              "  <div id=\"df-a10b3fe9-9140-4e74-85cd-69c79d9b85bd\" class=\"colab-df-container\">\n",
              "    <div>\n",
              "<style scoped>\n",
              "    .dataframe tbody tr th:only-of-type {\n",
              "        vertical-align: middle;\n",
              "    }\n",
              "\n",
              "    .dataframe tbody tr th {\n",
              "        vertical-align: top;\n",
              "    }\n",
              "\n",
              "    .dataframe thead th {\n",
              "        text-align: right;\n",
              "    }\n",
              "</style>\n",
              "<table border=\"1\" class=\"dataframe\">\n",
              "  <thead>\n",
              "    <tr style=\"text-align: right;\">\n",
              "      <th></th>\n",
              "      <th>First Name</th>\n",
              "      <th>Email ID</th>\n",
              "      <th>Quantity</th>\n",
              "      <th>Events</th>\n",
              "      <th>Attendee Status</th>\n",
              "      <th>College Name</th>\n",
              "      <th>How did you come to know about this event?</th>\n",
              "      <th>Specify in \"Others\" (how did you come to know about this event)</th>\n",
              "      <th>Designation</th>\n",
              "      <th>Year of Graduation</th>\n",
              "      <th>City</th>\n",
              "      <th>CGPA</th>\n",
              "      <th>Experience with python (Months)</th>\n",
              "      <th>Family Income</th>\n",
              "      <th>Expected salary (Lac)</th>\n",
              "      <th>Leadership- skills</th>\n",
              "    </tr>\n",
              "  </thead>\n",
              "  <tbody>\n",
              "    <tr>\n",
              "      <th>0</th>\n",
              "      <td>ANIKET</td>\n",
              "      <td>aniket@xyz.com</td>\n",
              "      <td>1</td>\n",
              "      <td>Art of Resume Building</td>\n",
              "      <td>Attending</td>\n",
              "      <td>D Y PATIL INSTITUTE OF MCA AND MANAGEMENT AKUR...</td>\n",
              "      <td>Email</td>\n",
              "      <td>NaN</td>\n",
              "      <td>Students</td>\n",
              "      <td>2024</td>\n",
              "      <td>Patna</td>\n",
              "      <td>6.7</td>\n",
              "      <td>7</td>\n",
              "      <td>7 Lakh+</td>\n",
              "      <td>6</td>\n",
              "      <td>yes</td>\n",
              "    </tr>\n",
              "    <tr>\n",
              "      <th>1</th>\n",
              "      <td>Dhanshree</td>\n",
              "      <td>dhanshree@xyz.com</td>\n",
              "      <td>1</td>\n",
              "      <td>Art of Resume Building</td>\n",
              "      <td>Attending</td>\n",
              "      <td>AP SHAH INSTITUTE OF TECHNOLOGY</td>\n",
              "      <td>Others</td>\n",
              "      <td>College</td>\n",
              "      <td>Students</td>\n",
              "      <td>2024</td>\n",
              "      <td>Amravati</td>\n",
              "      <td>8.2</td>\n",
              "      <td>3</td>\n",
              "      <td>0-2 Lakh</td>\n",
              "      <td>7</td>\n",
              "      <td>no</td>\n",
              "    </tr>\n",
              "    <tr>\n",
              "      <th>2</th>\n",
              "      <td>Dhiraj</td>\n",
              "      <td>dhiraj@xyz.com</td>\n",
              "      <td>1</td>\n",
              "      <td>Art of Resume Building</td>\n",
              "      <td>Attending</td>\n",
              "      <td>Don Bosco College of Engineering Fatorda Goa</td>\n",
              "      <td>Email</td>\n",
              "      <td>NaN</td>\n",
              "      <td>Students</td>\n",
              "      <td>2023</td>\n",
              "      <td>Kunrool</td>\n",
              "      <td>6.5</td>\n",
              "      <td>4</td>\n",
              "      <td>5-7 Lakh</td>\n",
              "      <td>7</td>\n",
              "      <td>no</td>\n",
              "    </tr>\n",
              "    <tr>\n",
              "      <th>3</th>\n",
              "      <td>Pooja</td>\n",
              "      <td>pooja@xyz.com</td>\n",
              "      <td>1</td>\n",
              "      <td>Art of Resume Building</td>\n",
              "      <td>Attending</td>\n",
              "      <td>Pillai College of Engineering New Panvel</td>\n",
              "      <td>Email</td>\n",
              "      <td>NaN</td>\n",
              "      <td>Students</td>\n",
              "      <td>2025</td>\n",
              "      <td>Tirupati</td>\n",
              "      <td>8.7</td>\n",
              "      <td>7</td>\n",
              "      <td>2-5 Lakh</td>\n",
              "      <td>8</td>\n",
              "      <td>no</td>\n",
              "    </tr>\n",
              "    <tr>\n",
              "      <th>4</th>\n",
              "      <td>Aayush</td>\n",
              "      <td>aayush@xyz.com</td>\n",
              "      <td>1</td>\n",
              "      <td>Art of Resume Building</td>\n",
              "      <td>Attending</td>\n",
              "      <td>St Xavier's College</td>\n",
              "      <td>Instagram | LinkedIn | Cloud Counselage Website</td>\n",
              "      <td>NaN</td>\n",
              "      <td>Students</td>\n",
              "      <td>2024</td>\n",
              "      <td>Vijaywada</td>\n",
              "      <td>9.1</td>\n",
              "      <td>3</td>\n",
              "      <td>0-2 Lakh</td>\n",
              "      <td>10</td>\n",
              "      <td>yes</td>\n",
              "    </tr>\n",
              "  </tbody>\n",
              "</table>\n",
              "</div>\n",
              "    <div class=\"colab-df-buttons\">\n",
              "\n",
              "  <div class=\"colab-df-container\">\n",
              "    <button class=\"colab-df-convert\" onclick=\"convertToInteractive('df-a10b3fe9-9140-4e74-85cd-69c79d9b85bd')\"\n",
              "            title=\"Convert this dataframe to an interactive table.\"\n",
              "            style=\"display:none;\">\n",
              "\n",
              "  <svg xmlns=\"http://www.w3.org/2000/svg\" height=\"24px\" viewBox=\"0 -960 960 960\">\n",
              "    <path d=\"M120-120v-720h720v720H120Zm60-500h600v-160H180v160Zm220 220h160v-160H400v160Zm0 220h160v-160H400v160ZM180-400h160v-160H180v160Zm440 0h160v-160H620v160ZM180-180h160v-160H180v160Zm440 0h160v-160H620v160Z\"/>\n",
              "  </svg>\n",
              "    </button>\n",
              "\n",
              "  <style>\n",
              "    .colab-df-container {\n",
              "      display:flex;\n",
              "      gap: 12px;\n",
              "    }\n",
              "\n",
              "    .colab-df-convert {\n",
              "      background-color: #E8F0FE;\n",
              "      border: none;\n",
              "      border-radius: 50%;\n",
              "      cursor: pointer;\n",
              "      display: none;\n",
              "      fill: #1967D2;\n",
              "      height: 32px;\n",
              "      padding: 0 0 0 0;\n",
              "      width: 32px;\n",
              "    }\n",
              "\n",
              "    .colab-df-convert:hover {\n",
              "      background-color: #E2EBFA;\n",
              "      box-shadow: 0px 1px 2px rgba(60, 64, 67, 0.3), 0px 1px 3px 1px rgba(60, 64, 67, 0.15);\n",
              "      fill: #174EA6;\n",
              "    }\n",
              "\n",
              "    .colab-df-buttons div {\n",
              "      margin-bottom: 4px;\n",
              "    }\n",
              "\n",
              "    [theme=dark] .colab-df-convert {\n",
              "      background-color: #3B4455;\n",
              "      fill: #D2E3FC;\n",
              "    }\n",
              "\n",
              "    [theme=dark] .colab-df-convert:hover {\n",
              "      background-color: #434B5C;\n",
              "      box-shadow: 0px 1px 3px 1px rgba(0, 0, 0, 0.15);\n",
              "      filter: drop-shadow(0px 1px 2px rgba(0, 0, 0, 0.3));\n",
              "      fill: #FFFFFF;\n",
              "    }\n",
              "  </style>\n",
              "\n",
              "    <script>\n",
              "      const buttonEl =\n",
              "        document.querySelector('#df-a10b3fe9-9140-4e74-85cd-69c79d9b85bd button.colab-df-convert');\n",
              "      buttonEl.style.display =\n",
              "        google.colab.kernel.accessAllowed ? 'block' : 'none';\n",
              "\n",
              "      async function convertToInteractive(key) {\n",
              "        const element = document.querySelector('#df-a10b3fe9-9140-4e74-85cd-69c79d9b85bd');\n",
              "        const dataTable =\n",
              "          await google.colab.kernel.invokeFunction('convertToInteractive',\n",
              "                                                    [key], {});\n",
              "        if (!dataTable) return;\n",
              "\n",
              "        const docLinkHtml = 'Like what you see? Visit the ' +\n",
              "          '<a target=\"_blank\" href=https://colab.research.google.com/notebooks/data_table.ipynb>data table notebook</a>'\n",
              "          + ' to learn more about interactive tables.';\n",
              "        element.innerHTML = '';\n",
              "        dataTable['output_type'] = 'display_data';\n",
              "        await google.colab.output.renderOutput(dataTable, element);\n",
              "        const docLink = document.createElement('div');\n",
              "        docLink.innerHTML = docLinkHtml;\n",
              "        element.appendChild(docLink);\n",
              "      }\n",
              "    </script>\n",
              "  </div>\n",
              "\n",
              "\n",
              "    <div id=\"df-19f48a66-69d6-44a6-acba-a8419f549389\">\n",
              "      <button class=\"colab-df-quickchart\" onclick=\"quickchart('df-19f48a66-69d6-44a6-acba-a8419f549389')\"\n",
              "                title=\"Suggest charts\"\n",
              "                style=\"display:none;\">\n",
              "\n",
              "<svg xmlns=\"http://www.w3.org/2000/svg\" height=\"24px\"viewBox=\"0 0 24 24\"\n",
              "     width=\"24px\">\n",
              "    <g>\n",
              "        <path d=\"M19 3H5c-1.1 0-2 .9-2 2v14c0 1.1.9 2 2 2h14c1.1 0 2-.9 2-2V5c0-1.1-.9-2-2-2zM9 17H7v-7h2v7zm4 0h-2V7h2v10zm4 0h-2v-4h2v4z\"/>\n",
              "    </g>\n",
              "</svg>\n",
              "      </button>\n",
              "\n",
              "<style>\n",
              "  .colab-df-quickchart {\n",
              "      --bg-color: #E8F0FE;\n",
              "      --fill-color: #1967D2;\n",
              "      --hover-bg-color: #E2EBFA;\n",
              "      --hover-fill-color: #174EA6;\n",
              "      --disabled-fill-color: #AAA;\n",
              "      --disabled-bg-color: #DDD;\n",
              "  }\n",
              "\n",
              "  [theme=dark] .colab-df-quickchart {\n",
              "      --bg-color: #3B4455;\n",
              "      --fill-color: #D2E3FC;\n",
              "      --hover-bg-color: #434B5C;\n",
              "      --hover-fill-color: #FFFFFF;\n",
              "      --disabled-bg-color: #3B4455;\n",
              "      --disabled-fill-color: #666;\n",
              "  }\n",
              "\n",
              "  .colab-df-quickchart {\n",
              "    background-color: var(--bg-color);\n",
              "    border: none;\n",
              "    border-radius: 50%;\n",
              "    cursor: pointer;\n",
              "    display: none;\n",
              "    fill: var(--fill-color);\n",
              "    height: 32px;\n",
              "    padding: 0;\n",
              "    width: 32px;\n",
              "  }\n",
              "\n",
              "  .colab-df-quickchart:hover {\n",
              "    background-color: var(--hover-bg-color);\n",
              "    box-shadow: 0 1px 2px rgba(60, 64, 67, 0.3), 0 1px 3px 1px rgba(60, 64, 67, 0.15);\n",
              "    fill: var(--button-hover-fill-color);\n",
              "  }\n",
              "\n",
              "  .colab-df-quickchart-complete:disabled,\n",
              "  .colab-df-quickchart-complete:disabled:hover {\n",
              "    background-color: var(--disabled-bg-color);\n",
              "    fill: var(--disabled-fill-color);\n",
              "    box-shadow: none;\n",
              "  }\n",
              "\n",
              "  .colab-df-spinner {\n",
              "    border: 2px solid var(--fill-color);\n",
              "    border-color: transparent;\n",
              "    border-bottom-color: var(--fill-color);\n",
              "    animation:\n",
              "      spin 1s steps(1) infinite;\n",
              "  }\n",
              "\n",
              "  @keyframes spin {\n",
              "    0% {\n",
              "      border-color: transparent;\n",
              "      border-bottom-color: var(--fill-color);\n",
              "      border-left-color: var(--fill-color);\n",
              "    }\n",
              "    20% {\n",
              "      border-color: transparent;\n",
              "      border-left-color: var(--fill-color);\n",
              "      border-top-color: var(--fill-color);\n",
              "    }\n",
              "    30% {\n",
              "      border-color: transparent;\n",
              "      border-left-color: var(--fill-color);\n",
              "      border-top-color: var(--fill-color);\n",
              "      border-right-color: var(--fill-color);\n",
              "    }\n",
              "    40% {\n",
              "      border-color: transparent;\n",
              "      border-right-color: var(--fill-color);\n",
              "      border-top-color: var(--fill-color);\n",
              "    }\n",
              "    60% {\n",
              "      border-color: transparent;\n",
              "      border-right-color: var(--fill-color);\n",
              "    }\n",
              "    80% {\n",
              "      border-color: transparent;\n",
              "      border-right-color: var(--fill-color);\n",
              "      border-bottom-color: var(--fill-color);\n",
              "    }\n",
              "    90% {\n",
              "      border-color: transparent;\n",
              "      border-bottom-color: var(--fill-color);\n",
              "    }\n",
              "  }\n",
              "</style>\n",
              "\n",
              "      <script>\n",
              "        async function quickchart(key) {\n",
              "          const quickchartButtonEl =\n",
              "            document.querySelector('#' + key + ' button');\n",
              "          quickchartButtonEl.disabled = true;  // To prevent multiple clicks.\n",
              "          quickchartButtonEl.classList.add('colab-df-spinner');\n",
              "          try {\n",
              "            const charts = await google.colab.kernel.invokeFunction(\n",
              "                'suggestCharts', [key], {});\n",
              "          } catch (error) {\n",
              "            console.error('Error during call to suggestCharts:', error);\n",
              "          }\n",
              "          quickchartButtonEl.classList.remove('colab-df-spinner');\n",
              "          quickchartButtonEl.classList.add('colab-df-quickchart-complete');\n",
              "        }\n",
              "        (() => {\n",
              "          let quickchartButtonEl =\n",
              "            document.querySelector('#df-19f48a66-69d6-44a6-acba-a8419f549389 button');\n",
              "          quickchartButtonEl.style.display =\n",
              "            google.colab.kernel.accessAllowed ? 'block' : 'none';\n",
              "        })();\n",
              "      </script>\n",
              "    </div>\n",
              "\n",
              "    </div>\n",
              "  </div>\n"
            ],
            "application/vnd.google.colaboratory.intrinsic+json": {
              "type": "dataframe",
              "variable_name": "df",
              "summary": "{\n  \"name\": \"df\",\n  \"rows\": 4894,\n  \"fields\": [\n    {\n      \"column\": \"First Name\",\n      \"properties\": {\n        \"dtype\": \"category\",\n        \"num_unique_values\": 2324,\n        \"samples\": [\n          \"Ruqaiya\",\n          \"Terri\",\n          \"Suzanne\"\n        ],\n        \"semantic_type\": \"\",\n        \"description\": \"\"\n      }\n    },\n    {\n      \"column\": \"Email ID\",\n      \"properties\": {\n        \"dtype\": \"category\",\n        \"num_unique_values\": 2157,\n        \"samples\": [\n          \"mildred@xyz.com\",\n          \"ar.priyanka@xyz.com\",\n          \"boya@xyz.com\"\n        ],\n        \"semantic_type\": \"\",\n        \"description\": \"\"\n      }\n    },\n    {\n      \"column\": \"Quantity\",\n      \"properties\": {\n        \"dtype\": \"number\",\n        \"std\": 0,\n        \"min\": 1,\n        \"max\": 1,\n        \"num_unique_values\": 1,\n        \"samples\": [\n          1\n        ],\n        \"semantic_type\": \"\",\n        \"description\": \"\"\n      }\n    },\n    {\n      \"column\": \"Events\",\n      \"properties\": {\n        \"dtype\": \"category\",\n        \"num_unique_values\": 16,\n        \"samples\": [\n          \"Art of Resume Building\"\n        ],\n        \"semantic_type\": \"\",\n        \"description\": \"\"\n      }\n    },\n    {\n      \"column\": \"Attendee Status\",\n      \"properties\": {\n        \"dtype\": \"category\",\n        \"num_unique_values\": 2,\n        \"samples\": [\n          \"NAN\"\n        ],\n        \"semantic_type\": \"\",\n        \"description\": \"\"\n      }\n    },\n    {\n      \"column\": \"College Name\",\n      \"properties\": {\n        \"dtype\": \"category\",\n        \"num_unique_values\": 55,\n        \"samples\": [\n          \"s.i.e.s. graduate school of technology, nerul, navi mumbai\"\n        ],\n        \"semantic_type\": \"\",\n        \"description\": \"\"\n      }\n    },\n    {\n      \"column\": \"How did you come to know about this event?\",\n      \"properties\": {\n        \"dtype\": \"category\",\n        \"num_unique_values\": 99,\n        \"samples\": [\n          \"Youtube | Instagram | Whatsapp | Telegram | Twitter\"\n        ],\n        \"semantic_type\": \"\",\n        \"description\": \"\"\n      }\n    },\n    {\n      \"column\": \"Specify in \\\"Others\\\" (how did you come to know about this event)\",\n      \"properties\": {\n        \"dtype\": \"category\",\n        \"num_unique_values\": 11,\n        \"samples\": [\n          \"Team entity\"\n        ],\n        \"semantic_type\": \"\",\n        \"description\": \"\"\n      }\n    },\n    {\n      \"column\": \"Designation\",\n      \"properties\": {\n        \"dtype\": \"category\",\n        \"num_unique_values\": 49,\n        \"samples\": [\n          \"Intern\"\n        ],\n        \"semantic_type\": \"\",\n        \"description\": \"\"\n      }\n    },\n    {\n      \"column\": \"Year of Graduation\",\n      \"properties\": {\n        \"dtype\": \"number\",\n        \"std\": 1,\n        \"min\": 2023,\n        \"max\": 2026,\n        \"num_unique_values\": 4,\n        \"samples\": [\n          2023\n        ],\n        \"semantic_type\": \"\",\n        \"description\": \"\"\n      }\n    },\n    {\n      \"column\": \"City\",\n      \"properties\": {\n        \"dtype\": \"category\",\n        \"num_unique_values\": 177,\n        \"samples\": [\n          \"Muzaffarpur\"\n        ],\n        \"semantic_type\": \"\",\n        \"description\": \"\"\n      }\n    },\n    {\n      \"column\": \"CGPA\",\n      \"properties\": {\n        \"dtype\": \"number\",\n        \"std\": 1.005184295914235,\n        \"min\": 6.2,\n        \"max\": 9.9,\n        \"num_unique_values\": 37,\n        \"samples\": [\n          6.2\n        ],\n        \"semantic_type\": \"\",\n        \"description\": \"\"\n      }\n    },\n    {\n      \"column\": \"Experience with python (Months)\",\n      \"properties\": {\n        \"dtype\": \"number\",\n        \"std\": 1,\n        \"min\": 3,\n        \"max\": 8,\n        \"num_unique_values\": 6,\n        \"samples\": [\n          7\n        ],\n        \"semantic_type\": \"\",\n        \"description\": \"\"\n      }\n    },\n    {\n      \"column\": \"Family Income\",\n      \"properties\": {\n        \"dtype\": \"category\",\n        \"num_unique_values\": 4,\n        \"samples\": [\n          \"0-2 Lakh\"\n        ],\n        \"semantic_type\": \"\",\n        \"description\": \"\"\n      }\n    },\n    {\n      \"column\": \"Expected salary (Lac)\",\n      \"properties\": {\n        \"dtype\": \"number\",\n        \"std\": 6,\n        \"min\": 5,\n        \"max\": 35,\n        \"num_unique_values\": 30,\n        \"samples\": [\n          34\n        ],\n        \"semantic_type\": \"\",\n        \"description\": \"\"\n      }\n    },\n    {\n      \"column\": \"Leadership- skills\",\n      \"properties\": {\n        \"dtype\": \"category\",\n        \"num_unique_values\": 3,\n        \"samples\": [\n          \"yes\"\n        ],\n        \"semantic_type\": \"\",\n        \"description\": \"\"\n      }\n    }\n  ]\n}"
            }
          },
          "metadata": {},
          "execution_count": 1
        }
      ],
      "source": [
        "import pandas as pd\n",
        "import matplotlib.pyplot as plt\n",
        "import seaborn as sns\n",
        "import numpy as np\n",
        "\n",
        "# Upload your Excel sheet\n",
        "from google.colab import files\n",
        "uploaded = files.upload()\n",
        "\n",
        "# Load it into DataFrame\n",
        "df = pd.read_excel(next(iter(uploaded)))\n",
        "\n",
        "# Quick preview\n",
        "df.head()"
      ]
    },
    {
      "cell_type": "code",
      "source": [
        "df.columns"
      ],
      "metadata": {
        "colab": {
          "base_uri": "https://localhost:8080/"
        },
        "id": "t-mg58Ora9P0",
        "outputId": "9fb78b02-8164-4ca7-c490-173d4316f362"
      },
      "execution_count": null,
      "outputs": [
        {
          "output_type": "execute_result",
          "data": {
            "text/plain": [
              "Index(['First Name', 'Email ID', 'Quantity', 'Events', 'Attendee Status',\n",
              "       'College Name', 'How did you come to know about this event?',\n",
              "       'Specify in \"Others\" (how did you come to know about this event)',\n",
              "       'Designation', 'Year of Graduation', 'City', 'CGPA',\n",
              "       'Experience with python (Months)', 'Family Income',\n",
              "       'Expected salary (Lac)', 'Leadership- skills'],\n",
              "      dtype='object')"
            ]
          },
          "metadata": {},
          "execution_count": 2
        }
      ]
    },
    {
      "cell_type": "markdown",
      "source": [
        "#*1. How many unique students are included in the dataset?*\n",
        "\n"
      ],
      "metadata": {
        "id": "-iU9oNRGbTgZ"
      }
    },
    {
      "cell_type": "code",
      "source": [
        "unique_students = df['Email ID'].nunique()\n",
        "print(\"Unique students:\", unique_students)\n"
      ],
      "metadata": {
        "colab": {
          "base_uri": "https://localhost:8080/"
        },
        "id": "s52IbAX_bAo_",
        "outputId": "c6a7300c-8b11-4030-c606-37e5497416dc"
      },
      "execution_count": null,
      "outputs": [
        {
          "output_type": "stream",
          "name": "stdout",
          "text": [
            "Unique students: 2157\n"
          ]
        }
      ]
    },
    {
      "cell_type": "markdown",
      "source": [
        "\n",
        "\n",
        "#*2. What is the average GPA of the students?*\n"
      ],
      "metadata": {
        "id": "s3N_SRxbcwW4"
      }
    },
    {
      "cell_type": "code",
      "source": [
        "average_gpa = df['CGPA'].mean()\n",
        "print(\"Average GPA:\", round(average_gpa, 2))\n"
      ],
      "metadata": {
        "colab": {
          "base_uri": "https://localhost:8080/"
        },
        "id": "S9YCYSikc8zP",
        "outputId": "64cc68e7-cc3e-4069-ddfd-235bd7b463b4"
      },
      "execution_count": null,
      "outputs": [
        {
          "output_type": "stream",
          "name": "stdout",
          "text": [
            "Average GPA: 8.04\n"
          ]
        }
      ]
    },
    {
      "cell_type": "markdown",
      "source": [
        "#*3. What is the distribution of students across different graduation years?*"
      ],
      "metadata": {
        "id": "BSjgs5T5c9I2"
      }
    },
    {
      "cell_type": "code",
      "source": [
        "sns.countplot(data=df, x='Year of Graduation')\n",
        "plt.title('Distribution by Graduation Year')\n",
        "plt.xticks(rotation=45)\n",
        "plt.show()\n"
      ],
      "metadata": {
        "colab": {
          "base_uri": "https://localhost:8080/",
          "height": 492
        },
        "id": "c4idtj2Sc9ZR",
        "outputId": "8bdc99d6-0891-4fa2-9f66-a798586b176a"
      },
      "execution_count": null,
      "outputs": [
        {
          "output_type": "display_data",
          "data": {
            "text/plain": [
              "<Figure size 640x480 with 1 Axes>"
            ],
            "image/png": "[encoded data removed]"
          },
          "metadata": {}
        }
      ]
    },
    {
      "cell_type": "markdown",
      "source": [
        "#*4. What is the distribution of student’s experience with Python programming?*"
      ],
      "metadata": {
        "id": "bgPkJMb9c9rs"
      }
    },
    {
      "cell_type": "code",
      "source": [
        "plt.figure(figsize=(10,5))\n",
        "sns.histplot(df['Experience with python (Months)'], bins=15, kde=True)\n",
        "plt.title('Python Experience (in Months)')\n",
        "plt.xlabel('Months')\n",
        "plt.ylabel('Number of Students')\n",
        "plt.show()\n"
      ],
      "metadata": {
        "colab": {
          "base_uri": "https://localhost:8080/",
          "height": 487
        },
        "id": "42NJow7xc999",
        "outputId": "87104848-ad66-4456-ce38-123afc504bd0"
      },
      "execution_count": null,
      "outputs": [
        {
          "output_type": "display_data",
          "data": {
            "text/plain": [
              "<Figure size 1000x500 with 1 Axes>"
            ],
            "image/png": "[encoded data removed]"
          },
          "metadata": {}
        }
      ]
    },
    {
      "cell_type": "markdown",
      "source": [
        "#*5. What is the average family income of the students?*"
      ],
      "metadata": {
        "id": "YccoQiPgdQ0i"
      }
    },
    {
      "cell_type": "code",
      "source": [
        "# Convert 'Family Income' column to numeric, handling Lakh and other symbols\n",
        "def convert_income_to_numeric(income_str):\n",
        "    if isinstance(income_str, str):  # Check if it's a string\n",
        "        income_str = income_str.replace('Lakh', '00000')  # Replace 'Lakh' with '00000'\n",
        "        income_str = income_str.replace('+', '')  # Remove '+' symbol\n",
        "        income_str = income_str.replace('-', '')  # Remove '-' symbol\n",
        "        # Split and sum if multiple incomes mentioned\n",
        "        incomes = income_str.split(' ')\n",
        "        total_income = 0\n",
        "        for i in incomes:\n",
        "          if i.isdigit():\n",
        "            total_income = total_income + int(i)\n",
        "        return int(total_income)  # convert to an integer\n",
        "        # return int(total_income)\n",
        "    else:\n",
        "        return income_str  # keep the value if not string\n",
        "\n",
        "df['Family Income'] = df['Family Income'].apply(convert_income_to_numeric)\n",
        "\n",
        "# Now calculate the average income\n",
        "avg_income = df['Family Income'].mean()\n",
        "print(\"Average Family Income:\", round(avg_income, 2))"
      ],
      "metadata": {
        "colab": {
          "base_uri": "https://localhost:8080/"
        },
        "id": "lFixEeCJdYXB",
        "outputId": "331150b9-758c-4583-b933-515b41b0c8e1"
      },
      "execution_count": null,
      "outputs": [
        {
          "output_type": "stream",
          "name": "stdout",
          "text": [
            "Average Family Income: 3.93\n"
          ]
        }
      ]
    },
    {
      "cell_type": "markdown",
      "source": [
        "#*6. How does the GPA vary among different colleges?*"
      ],
      "metadata": {
        "id": "vBGMTFBndstE"
      }
    },
    {
      "cell_type": "code",
      "source": [
        "top5_colleges = df.groupby('College Name')['CGPA'].mean().sort_values(ascending=False).head(5)\n",
        "print(\"Top 5 Colleges by Average GPA:\")\n",
        "print(top5_colleges)\n"
      ],
      "metadata": {
        "colab": {
          "base_uri": "https://localhost:8080/"
        },
        "id": "khgvmAObd4hX",
        "outputId": "8ee9dab0-9cf4-495d-b066-45d51d3aaef9"
      },
      "execution_count": null,
      "outputs": [
        {
          "output_type": "stream",
          "name": "stdout",
          "text": [
            "Top 5 Colleges by Average GPA:\n",
            "College Name\n",
            "THAKUR INSTITUTE OF MANAGEMENT STUDIES, CAREER DEVELOPMENT & RESEARCH - [TIMSCDR]    8.585714\n",
            "St Xavier's College                                                                  8.578571\n",
            "B. K. Birla College of Arts, Science & Commerce (Autonomous), Kalyan                 8.456410\n",
            "Symbiosis Institute of Technology, Pune                                              8.303448\n",
            "AP SHAH INSTITUTE OF TECHNOLOGY                                                      8.283333\n",
            "Name: CGPA, dtype: float64\n"
          ]
        }
      ]
    },
    {
      "cell_type": "markdown",
      "source": [
        "#*7. Are there any outliers in the ‘Attendee Status’ & ‘Quantity (courses completed)’ attribute?*"
      ],
      "metadata": {
        "id": "qdF-LBh3dtQU"
      }
    },
    {
      "cell_type": "code",
      "source": [
        "# Attendee Status count (checking for unexpected values)\n",
        "print(\"Attendee Status Values:\\n\", df['Attendee Status'].value_counts(dropna=False))\n",
        "\n",
        "# Boxplot for Quantity to spot outliers\n",
        "plt.figure(figsize=(8,4))\n",
        "sns.boxplot(x=df['Quantity'])\n",
        "plt.title('Outliers in Quantity (Courses Completed)')\n",
        "plt.show()\n"
      ],
      "metadata": {
        "colab": {
          "base_uri": "https://localhost:8080/",
          "height": 497
        },
        "id": "2Y712PWadteF",
        "outputId": "733dc226-fed6-4e1a-c23d-4591a6f2bf0f"
      },
      "execution_count": null,
      "outputs": [
        {
          "output_type": "stream",
          "name": "stdout",
          "text": [
            "Attendee Status Values:\n",
            " Attendee Status\n",
            "Attending    4882\n",
            "NAN            12\n",
            "Name: count, dtype: int64\n"
          ]
        },
        {
          "output_type": "display_data",
          "data": {
            "text/plain": [
              "<Figure size 800x400 with 1 Axes>"
            ],
            "image/png": "[encoded data removed]"
          },
          "metadata": {}
        }
      ]
    },
    {
      "cell_type": "markdown",
      "source": [
        "#*8. What is the average GPA for students from each city?*"
      ],
      "metadata": {
        "id": "bZMnYBHMdtsa"
      }
    },
    {
      "cell_type": "code",
      "source": [
        "gpa_by_city = df.groupby('City')['CGPA'].mean().sort_values(ascending=False)\n",
        "print(\"Average GPA by City:\")\n",
        "print(gpa_by_city)\n"
      ],
      "metadata": {
        "colab": {
          "base_uri": "https://localhost:8080/"
        },
        "id": "_6t1sH1xdt7Q",
        "outputId": "25a434e7-9cb7-4431-f01f-80a165d3c318"
      },
      "execution_count": null,
      "outputs": [
        {
          "output_type": "stream",
          "name": "stdout",
          "text": [
            "Average GPA by City:\n",
            "City\n",
            "Kolhapur     8.557143\n",
            "Raipur       8.507143\n",
            "Sonipat      8.464286\n",
            "Gurugram     8.459259\n",
            "Puri         8.450000\n",
            "               ...   \n",
            "Panipat      7.615385\n",
            "Nashik       7.592857\n",
            "Daman        7.421429\n",
            "Rewari       7.392308\n",
            "New Delhi    7.307143\n",
            "Name: CGPA, Length: 177, dtype: float64\n"
          ]
        }
      ]
    },
    {
      "cell_type": "markdown",
      "source": [
        "#*9. Can we identify any relationship between family income and GPA?*"
      ],
      "metadata": {
        "id": "TDopiJTtduJz"
      }
    },
    {
      "cell_type": "code",
      "source": [
        "plt.figure(figsize=(8,6))\n",
        "sns.scatterplot(x='Family Income', y='CGPA', data=df)\n",
        "sns.regplot(x='Family Income', y='CGPA', data=df, scatter=False, color='red')\n",
        "plt.title('Family Income vs GPA')\n",
        "plt.xlabel('Family Income')\n",
        "plt.ylabel('CGPA')\n",
        "plt.show()\n"
      ],
      "metadata": {
        "colab": {
          "base_uri": "https://localhost:8080/",
          "height": 564
        },
        "id": "zmDcgakQduaP",
        "outputId": "b147a6a7-a3e9-4198-b821-1f089deb4b73"
      },
      "execution_count": null,
      "outputs": [
        {
          "output_type": "display_data",
          "data": {
            "text/plain": [
              "<Figure size 800x600 with 1 Axes>"
            ],
            "image/png": "[encoded data removed]"
          },
          "metadata": {}
        }
      ]
    },
    {
      "cell_type": "markdown",
      "source": [
        "#*10. How does the expected salary vary based on GPA, Family Income, Python Experience?*"
      ],
      "metadata": {
        "id": "O0iU0xMIijQR"
      }
    },
    {
      "cell_type": "code",
      "source": [
        "import seaborn as sns\n",
        "import matplotlib.pyplot as plt\n",
        "\n",
        "# Clean the columns\n",
        "df['CGPA'] = pd.to_numeric(df['CGPA'], errors='coerce')\n",
        "df['Family Income'] = pd.to_numeric(df['Family Income'], errors='coerce')\n",
        "df['Experience with python (Months)'] = pd.to_numeric(df['Experience with python (Months)'], errors='coerce')\n",
        "df['Expected salary (Lac)'] = pd.to_numeric(df['Expected salary (Lac)'], errors='coerce')\n",
        "\n",
        "# Drop NA\n",
        "salary_factors = df[['CGPA', 'Family Income', 'Experience with python (Months)', 'Expected salary (Lac)']].dropna()\n",
        "\n",
        "# Plot correlation heatmap\n",
        "plt.figure(figsize=(8, 5))\n",
        "sns.heatmap(salary_factors.corr(), annot=True, cmap='coolwarm')\n",
        "plt.title(\"Correlation of GPA, Family Income, Python Exp with Expected Salary\")\n",
        "plt.show()\n"
      ],
      "metadata": {
        "colab": {
          "base_uri": "https://localhost:8080/",
          "height": 684
        },
        "id": "Ltvh96syijoY",
        "outputId": "25dcc0e1-f19e-48a5-d523-34659b068390"
      },
      "execution_count": null,
      "outputs": [
        {
          "output_type": "display_data",
          "data": {
            "text/plain": [
              "<Figure size 800x500 with 2 Axes>"
            ],
            "image/png": "[encoded data removed]"
          },
          "metadata": {}
        }
      ]
    },
    {
      "cell_type": "markdown",
      "source": [
        "#*11. Which event tends to attract more students from specific fields of study?*"
      ],
      "metadata": {
        "id": "4AA123Ulij17"
      }
    },
    {
      "cell_type": "code",
      "source": [
        "# Let's try grouping by Designation and Events to see trends\n",
        "event_field = df.groupby(['College Name', 'Events']).size().reset_index(name='Count')\n",
        "\n",
        "# Sort and view top results\n",
        "top_event_field = event_field.sort_values(by='Count', ascending=False).head(10)\n",
        "print(\"Top 10 event-field of study combos attracting students:\")\n",
        "print(top_event_field)\n"
      ],
      "metadata": {
        "colab": {
          "base_uri": "https://localhost:8080/"
        },
        "id": "doJbTGhSikG2",
        "outputId": "217d13af-3698-42d6-a40a-85daa1ca6812"
      },
      "execution_count": null,
      "outputs": [
        {
          "output_type": "stream",
          "name": "stdout",
          "text": [
            "Top 10 event-field of study combos attracting students:\n",
            "                                          College Name  \\\n",
            "390      priyadarshini college of engineering, nagpur    \n",
            "500        vidyalankar institute of technology, mumbai   \n",
            "308     ld college of engineering, ahmedabad, gujarat    \n",
            "166  b. k. birla college of arts, science & commerc...   \n",
            "260                 government polytechnic gandhinagar   \n",
            "276  kle society's college of bca, rls institute, b...   \n",
            "532                                    wilson college    \n",
            "212  dkte society's textile and engineering institu...   \n",
            "516          vishwakarma institute of technology, pune   \n",
            "498        vidyalankar institute of technology, mumbai   \n",
            "\n",
            "                                      Events  Count  \n",
            "390              Product Design & Full Stack     56  \n",
            "500              Product Design & Full Stack     52  \n",
            "308              Product Design & Full Stack     52  \n",
            "166              Product Design & Full Stack     42  \n",
            "260              Product Design & Full Stack     42  \n",
            "276              Product Design & Full Stack     41  \n",
            "532              Product Design & Full Stack     39  \n",
            "212              Product Design & Full Stack     39  \n",
            "516              Product Design & Full Stack     39  \n",
            "498  Internship Program(IP) Success Conclave     39  \n"
          ]
        }
      ]
    },
    {
      "cell_type": "markdown",
      "source": [
        "#*12. Do students in leadership positions tend to have higher GPAs or expected salaries?*"
      ],
      "metadata": {
        "id": "X4ijYUbSikWk"
      }
    },
    {
      "cell_type": "code",
      "source": [
        "# Filter valid data\n",
        "df_filtered = df[['Leadership- skills', 'CGPA', 'Expected salary (Lac)']].dropna()\n",
        "\n",
        "# Convert 'Leadership- skills' to numerical representation (e.g., 1 for 'yes', 0 for 'no')\n",
        "df_filtered['Leadership- skills'] = df_filtered['Leadership- skills'].map({'yes': 1, 'no': 0})\n",
        "\n",
        "# Students with leadership score above average\n",
        "avg_leader = df_filtered['Leadership- skills'].mean()\n",
        "leaders = df_filtered[df_filtered['Leadership- skills'] > avg_leader]\n",
        "\n",
        "# Compare\n",
        "print(\"Avg CGPA of leaders:\", leaders['CGPA'].mean())\n",
        "print(\"Avg expected salary of leaders:\", leaders['Expected salary (Lac)'].mean())"
      ],
      "metadata": {
        "colab": {
          "base_uri": "https://localhost:8080/"
        },
        "id": "blhLeMwIiknr",
        "outputId": "1eceb518-d196-4aae-c485-801455701948"
      },
      "execution_count": null,
      "outputs": [
        {
          "output_type": "stream",
          "name": "stdout",
          "text": [
            "Avg CGPA of leaders: 8.036787247087677\n",
            "Avg expected salary of leaders: 13.971796443899448\n"
          ]
        }
      ]
    },
    {
      "cell_type": "markdown",
      "source": [
        "#*13. Is there a correlation between leadership skills and expected salary?*"
      ],
      "metadata": {
        "id": "XQmDtZxkkvpO"
      }
    },
    {
      "cell_type": "code",
      "source": [
        "# Convert to numeric\n",
        "df['Leadership- skills'] = pd.to_numeric(df['Leadership- skills'], errors='coerce')\n",
        "df['Expected salary (Lac)'] = pd.to_numeric(df['Expected salary (Lac)'], errors='coerce')\n",
        "\n",
        "# Drop NA\n",
        "leadership_data = df[['Leadership- skills', 'Expected salary (Lac)']].dropna()\n",
        "\n",
        "# Calculate correlation\n",
        "correlation = leadership_data.corr().iloc[0,1]\n",
        "print(\"Correlation between leadership skills and expected salary:\", correlation)\n"
      ],
      "metadata": {
        "colab": {
          "base_uri": "https://localhost:8080/"
        },
        "id": "-8vrJWXXkv6n",
        "outputId": "bcf517a9-eb26-4b05-c223-4e93c1c693ea"
      },
      "execution_count": null,
      "outputs": [
        {
          "output_type": "stream",
          "name": "stdout",
          "text": [
            "Correlation between leadership skills and expected salary: nan\n"
          ]
        }
      ]
    },
    {
      "cell_type": "markdown",
      "source": [
        "#*14. How many students are graduating by the end of 2024?*"
      ],
      "metadata": {
        "id": "-Xy_NrlLkwIG"
      }
    },
    {
      "cell_type": "code",
      "source": [
        "# Clean and filter graduation year column\n",
        "df['Year of Graduation'] = pd.to_numeric(df['Year of Graduation'], errors='coerce')\n",
        "students_graduating_2024 = df[df['Year of Graduation'] <= 2024]\n",
        "\n",
        "print(\"Number of students graduating by the end of 2024:\", students_graduating_2024.shape[0])\n"
      ],
      "metadata": {
        "colab": {
          "base_uri": "https://localhost:8080/"
        },
        "id": "nVAtzOZmkwWe",
        "outputId": "af328014-a051-47ff-8007-5f16a3e2ae3e"
      },
      "execution_count": null,
      "outputs": [
        {
          "output_type": "stream",
          "name": "stdout",
          "text": [
            "Number of students graduating by the end of 2024: 3047\n"
          ]
        }
      ]
    },
    {
      "cell_type": "markdown",
      "source": [
        "#*15. Which promotion channel brings in more student participation?*"
      ],
      "metadata": {
        "id": "1keTuJj8kwku"
      }
    },
    {
      "cell_type": "code",
      "source": [
        "channel_counts = df['How did you come to know about this event?'].value_counts()\n",
        "\n",
        "print(\"Student participation by promotion channel:\\n\")\n",
        "print(channel_counts)\n"
      ],
      "metadata": {
        "colab": {
          "base_uri": "https://localhost:8080/"
        },
        "id": "_kdqL2a8kwzJ",
        "outputId": "5c9218a6-3b87-4f62-e24a-f8aeb7c8bc7d"
      },
      "execution_count": null,
      "outputs": [
        {
          "output_type": "stream",
          "name": "stdout",
          "text": [
            "Student participation by promotion channel:\n",
            "\n",
            "How did you come to know about this event?\n",
            "Whatsapp                                          1067\n",
            "Email                                              438\n",
            "SPOC/ College Professor                            326\n",
            "Others                                             153\n",
            "Cloud Counselage Website                           129\n",
            "                                                  ... \n",
            "Others | SPOC/ College Professor                     1\n",
            "Youtube | Facebook | Whatsapp                        1\n",
            "LinkedIn | Whatsapp | Cloud Counselage Website       1\n",
            "Instagram | Whatsapp | Email | Others                1\n",
            "Youtube | Whatsapp | Cloud Counselage Website        1\n",
            "Name: count, Length: 99, dtype: int64\n"
          ]
        }
      ]
    },
    {
      "cell_type": "markdown",
      "source": [
        "#*16: Total number of students who attended Data Science related events*"
      ],
      "metadata": {
        "id": "jX3ig7RKkxA0"
      }
    },
    {
      "cell_type": "code",
      "source": [
        "# Convert column to lowercase for consistent checking\n",
        "df['Events'] = df['Events'].astype(str).str.lower()\n",
        "\n",
        "# Check if event contains 'data science'\n",
        "data_sci_events = df[df['Events'].str.contains('data science', na=False)]\n",
        "\n",
        "print(\"Total students who attended Data Science related events:\", data_sci_events.shape[0])\n"
      ],
      "metadata": {
        "colab": {
          "base_uri": "https://localhost:8080/"
        },
        "id": "188FUHL9kxRE",
        "outputId": "b65a8a06-c594-4009-9a30-0b361f35c248"
      },
      "execution_count": null,
      "outputs": [
        {
          "output_type": "stream",
          "name": "stdout",
          "text": [
            "Total students who attended Data Science related events: 306\n"
          ]
        }
      ]
    },
    {
      "cell_type": "markdown",
      "source": [
        "#*17: Those with high CGPA & more Python experience — what was their average expected salary?*"
      ],
      "metadata": {
        "id": "COauF9NulXGT"
      }
    },
    {
      "cell_type": "code",
      "source": [
        "# Define threshold for \"high\" — top 25 percentile\n",
        "cgpa_thresh = df['CGPA'].quantile(0.75)\n",
        "python_exp_thresh = df['Experience with python (Months)'].quantile(0.75)\n",
        "\n",
        "# Filter those high in both\n",
        "high_performers = df[(df['CGPA'] >= cgpa_thresh) & (df['Experience with python (Months)'] >= python_exp_thresh)]\n",
        "\n",
        "# Average salary\n",
        "print(\"Average expected salary for high CGPA + high Python experience:\", high_performers['Expected salary (Lac)'].mean())\n"
      ],
      "metadata": {
        "colab": {
          "base_uri": "https://localhost:8080/"
        },
        "id": "f_I2_DL6lXWZ",
        "outputId": "9729baba-09e6-43f9-80f7-00f4144ca4ce"
      },
      "execution_count": null,
      "outputs": [
        {
          "output_type": "stream",
          "name": "stdout",
          "text": [
            "Average expected salary for high CGPA + high Python experience: 20.64756446991404\n"
          ]
        }
      ]
    }
  ]
}